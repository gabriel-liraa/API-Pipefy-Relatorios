{
 "cells": [
  {
   "cell_type": "markdown",
   "metadata": {},
   "source": [
    "# Acessando a API do Pipefy e fazendo download de relátorios de forma automática"
   ]
  },
  {
   "cell_type": "markdown",
   "metadata": {},
   "source": [
    "Importando a biblioteca \"resquests\" para fazer requisições HTTP em Python.\n",
    "\n",
    "Importando a biblioteca \"json\" para fácil conversão de strings em dicionários Python.\n"
   ]
  },
  {
   "cell_type": "code",
   "execution_count": 20,
   "metadata": {},
   "outputs": [],
   "source": [
    "import requests\n",
    "import json"
   ]
  },
  {
   "cell_type": "markdown",
   "metadata": {},
   "source": [
    "Definindo a URL do site e os headers necessários para o login.\n",
    "\n",
    "Nessa etapa é necessário substituir a palavra \"Token\" escrito no código abaixo (logo após \"Bearer\"), pelo seu token de acesso do Pipefy.\n",
    "\n",
    "Esse token pode ser coletado no seguinte link \"https://app.pipefy.com/tokens\"."
   ]
  },
  {
   "cell_type": "code",
   "execution_count": 2,
   "metadata": {},
   "outputs": [],
   "source": [
    "url = \"https://api.pipefy.com/graphql\"\n",
    "\n",
    "headers = {\n",
    "    \"Accept\": \"application/json\",\n",
    "    \"Content-Type\": \"application/json\",\n",
    "    \"Authorization\": \"Bearer Token\"\n",
    "}"
   ]
  },
  {
   "cell_type": "markdown",
   "metadata": {},
   "source": [
    "### Definindo a primeira consulta em GraphQL para extrair o ID de exportação do relatório"
   ]
  },
  {
   "cell_type": "markdown",
   "metadata": {},
   "source": [
    "Essa primeira consulta nos retorna o ID de exportação do relatório.\n",
    "\n",
    "Nessa etapa é necessário substituir as palavras \"IdPipe\" e \"IdPipeRelatorio\" pelos respectivos IDs do seu pipe e do seu relatório, esse que já deve conter as colunas que deseja, podendo ser editadas na própria página de relatório do Pipefy.\n",
    "\n",
    "Ambos IDs podem ser identificados no link da página que contem seu relatório, e estarão dispostos da seguinte forma:\n",
    "\n",
    "https://app.pipefy.com/pipes/Id_do_seu_Pipe/reports_v2/Id_do_seu_relatório\n",
    "\n",
    "(O link acima não retorna uma página válida, só mostra o padrão de link que será encontrado)\n",
    "\n",
    "Note que para o ID de seu relatório ser encontrado no link, ele deve ter sido salvo ao menos 1 vez."
   ]
  },
  {
   "cell_type": "code",
   "execution_count": 3,
   "metadata": {},
   "outputs": [],
   "source": [
    "payload_mutation = {\"query\": '''\n",
    "mutation {\n",
    "\n",
    "  exportPipeReport(input: { pipeId: IdPipe, pipeReportId: IdPipeRelatorio}) {\n",
    "\n",
    "    pipeReportExport {\n",
    "\n",
    "      id\n",
    "\n",
    "    }\n",
    "\n",
    "  }\n",
    "\n",
    "}\n",
    "'''}"
   ]
  },
  {
   "cell_type": "markdown",
   "metadata": {},
   "source": [
    "### Fazendo o request para o ID de exportação do relatório"
   ]
  },
  {
   "cell_type": "code",
   "execution_count": 6,
   "metadata": {},
   "outputs": [],
   "source": [
    "response_mutation = requests.post(url, json=payload_mutation, headers=headers)"
   ]
  },
  {
   "cell_type": "markdown",
   "metadata": {},
   "source": [
    "Utilizando o atributo text do nosso request é possível ver o conteúdo retornado, porém em formato de texto.\n",
    "\n",
    "Para esse conteúdo ser acessado de forma fácil precisamos transformalo em um dicionário Python com a biblioteca \"json\".\n",
    "\n",
    "Uma vez no formato necessário, podemos acessar o ID de exportação da seguinte forma:"
   ]
  },
  {
   "cell_type": "code",
   "execution_count": 46,
   "metadata": {},
   "outputs": [],
   "source": [
    "exportID = json.loads(response_mutation.text)['data']['exportPipeReport']['pipeReportExport']['id']"
   ]
  },
  {
   "cell_type": "markdown",
   "metadata": {},
   "source": [
    "### Definindo a segunda consulta em GraphQL para extrair o link de download do relatório"
   ]
  },
  {
   "cell_type": "code",
   "execution_count": 38,
   "metadata": {},
   "outputs": [],
   "source": [
    "payload_query = {\"query\" : '''{\n",
    "\n",
    "  pipeReportExport(id: idExportacao) {\n",
    "\n",
    "    fileURL\n",
    "\n",
    "    state\n",
    "\n",
    "    startedAt\n",
    "\n",
    "    requestedBy {\n",
    "\n",
    "      id\n",
    "\n",
    "    }\n",
    "\n",
    "  }\n",
    "\n",
    "}\n",
    "'''}"
   ]
  },
  {
   "cell_type": "markdown",
   "metadata": {},
   "source": [
    "### Substituindo o ID de exportação na consulta acima"
   ]
  },
  {
   "cell_type": "code",
   "execution_count": 41,
   "metadata": {},
   "outputs": [],
   "source": [
    "payload_query['query'] = payload_query['query'].replace(\"idExportacao\", exportID)"
   ]
  },
  {
   "cell_type": "markdown",
   "metadata": {},
   "source": [
    "### Fazendo o request para o link de download do relatório"
   ]
  },
  {
   "cell_type": "code",
   "execution_count": 43,
   "metadata": {},
   "outputs": [],
   "source": [
    "response_query = requests.post(url, json=payload_query, headers=headers)"
   ]
  },
  {
   "cell_type": "markdown",
   "metadata": {},
   "source": [
    "Fazendo o mesmo processo de conversão do último request, temos o link para download do relatório."
   ]
  },
  {
   "cell_type": "code",
   "execution_count": 45,
   "metadata": {},
   "outputs": [],
   "source": [
    "downloadLInk = json.loads(response_query.text)['data']['pipeReportExport']['fileURL']"
   ]
  },
  {
   "cell_type": "markdown",
   "metadata": {},
   "source": [
    "### Fazendo o request para o link de download"
   ]
  },
  {
   "cell_type": "code",
   "execution_count": 35,
   "metadata": {},
   "outputs": [],
   "source": [
    "download = requests.get(downloadLInk)"
   ]
  },
  {
   "cell_type": "markdown",
   "metadata": {},
   "source": [
    "O atributo \"content\" nos fornece o conteúdo da página em bytes, utilizando a função \"open\" para manipular arquivos, com o paramêtro \"wb\", logo após o nome desejado do arquivo, é permitido escrever-los em um novo documento.\n",
    "\n",
    "Ao utilizar a função \"write\", passamos como parâmetro o conteúdo em bytes do link de downlaod, escrevendo assim o relatório desejado."
   ]
  },
  {
   "cell_type": "code",
   "execution_count": 36,
   "metadata": {},
   "outputs": [],
   "source": [
    "with open(\"Relatorio.xlsx\", \"wb\") as d:\n",
    "    d.write(download.content)"
   ]
  }
 ],
 "metadata": {
  "kernelspec": {
   "display_name": "Python 3.10.4 64-bit",
   "language": "python",
   "name": "python3"
  },
  "language_info": {
   "codemirror_mode": {
    "name": "ipython",
    "version": 3
   },
   "file_extension": ".py",
   "mimetype": "text/x-python",
   "name": "python",
   "nbconvert_exporter": "python",
   "pygments_lexer": "ipython3",
   "version": "3.10.4"
  },
  "orig_nbformat": 4,
  "vscode": {
   "interpreter": {
    "hash": "916dbcbb3f70747c44a77c7bcd40155683ae19c65e1c03b4aa3499c5328201f1"
   }
  }
 },
 "nbformat": 4,
 "nbformat_minor": 2
}
